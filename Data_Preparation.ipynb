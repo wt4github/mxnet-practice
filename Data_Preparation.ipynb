{
 "cells": [
  {
   "cell_type": "code",
   "execution_count": 1,
   "metadata": {
    "collapsed": true
   },
   "outputs": [],
   "source": [
    "import pandas as pd"
   ]
  },
  {
   "cell_type": "code",
   "execution_count": 2,
   "metadata": {
    "collapsed": true
   },
   "outputs": [],
   "source": [
    "input_file_path = \"./trainingandtestdata/sentiment_analysis_dataset.tar.gz\"\n",
    "output_path = \"./data/text/\"\n",
    "training_record_size = 50000\n",
    "test_record_size=50000"
   ]
  },
  {
   "cell_type": "code",
   "execution_count": 3,
   "metadata": {
    "collapsed": true
   },
   "outputs": [],
   "source": [
    "dataframe = pd.read_csv(filepath_or_buffer=input_file_path,compression='gzip', sep=\",\",names=[\"1\",\"2\",\"3\",\"4\"],dtype=str)"
   ]
  },
  {
   "cell_type": "code",
   "execution_count": 4,
   "metadata": {
    "collapsed": true
   },
   "outputs": [],
   "source": [
    "dataframe=dataframe.rename(columns=dataframe.iloc[0])"
   ]
  },
  {
   "cell_type": "code",
   "execution_count": 5,
   "metadata": {
    "collapsed": true
   },
   "outputs": [],
   "source": [
    "dataframe_0 = dataframe.loc[dataframe[\"Sentiment\"]==\"0\"][[\"Sentiment\", \"SentimentText\"]]"
   ]
  },
  {
   "cell_type": "code",
   "execution_count": 6,
   "metadata": {
    "collapsed": true
   },
   "outputs": [],
   "source": [
    "dataframe_1 = dataframe.loc[dataframe[\"Sentiment\"]==\"1\"][[\"Sentiment\", \"SentimentText\"]]"
   ]
  },
  {
   "cell_type": "code",
   "execution_count": 7,
   "metadata": {
    "collapsed": true
   },
   "outputs": [],
   "source": [
    "training_dataframe_0 = dataframe_0.iloc[:int(training_record_size/2)].reset_index(drop=True)\n",
    "test_dataframe_0 = dataframe_0.iloc[int(training_record_size/2):int(training_record_size/2+test_record_size/2)].reset_index(drop=True)"
   ]
  },
  {
   "cell_type": "code",
   "execution_count": 8,
   "metadata": {
    "collapsed": true
   },
   "outputs": [],
   "source": [
    "training_dataframe_1 = dataframe_1.iloc[:int(training_record_size/2)].reset_index(drop=True)\n",
    "test_dataframe_1 = dataframe_1.iloc[int(training_record_size/2):int(training_record_size/2+test_record_size/2)].reset_index(drop=True)"
   ]
  },
  {
   "cell_type": "code",
   "execution_count": 9,
   "metadata": {
    "collapsed": true
   },
   "outputs": [],
   "source": [
    "training_dataframe = pd.concat([training_dataframe_0,training_dataframe_1]).reset_index(drop=True)\n",
    "training_dataframe['Index'] = training_dataframe.index"
   ]
  },
  {
   "cell_type": "code",
   "execution_count": 10,
   "metadata": {},
   "outputs": [
    {
     "data": {
      "text/plain": [
       "50000"
      ]
     },
     "execution_count": 10,
     "metadata": {},
     "output_type": "execute_result"
    }
   ],
   "source": [
    "len(training_dataframe)"
   ]
  },
  {
   "cell_type": "code",
   "execution_count": 11,
   "metadata": {
    "collapsed": true
   },
   "outputs": [],
   "source": [
    "test_dataframe = pd.concat([test_dataframe_0,test_dataframe_1]).reset_index(drop=True)\n",
    "test_dataframe['Index'] = test_dataframe.index"
   ]
  },
  {
   "cell_type": "code",
   "execution_count": 12,
   "metadata": {},
   "outputs": [
    {
     "data": {
      "text/plain": [
       "50000"
      ]
     },
     "execution_count": 12,
     "metadata": {},
     "output_type": "execute_result"
    }
   ],
   "source": [
    "len(test_dataframe)"
   ]
  },
  {
   "cell_type": "code",
   "execution_count": 13,
   "metadata": {
    "collapsed": true
   },
   "outputs": [],
   "source": [
    "training_dataframe.to_csv(output_path+\"training_data_\"+str(training_record_size)+\".csv\",index=False)\n",
    "test_dataframe.to_csv(output_path+\"test_data_\"+str(test_record_size)+\".csv\",index=False)\n"
   ]
  }
 ],
 "metadata": {
  "kernelspec": {
   "display_name": "Python 3",
   "language": "python",
   "name": "python3"
  },
  "language_info": {
   "codemirror_mode": {
    "name": "ipython",
    "version": 3
   },
   "file_extension": ".py",
   "mimetype": "text/x-python",
   "name": "python",
   "nbconvert_exporter": "python",
   "pygments_lexer": "ipython3",
   "version": "3.4.3"
  }
 },
 "nbformat": 4,
 "nbformat_minor": 2
}
