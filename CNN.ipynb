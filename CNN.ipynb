{
 "cells": [
  {
   "cell_type": "code",
   "execution_count": 1,
   "metadata": {
    "collapsed": true
   },
   "outputs": [],
   "source": [
    "from __future__ import print_function\n",
    "import mxnet as mx\n",
    "from mxnet import nd, autograd\n",
    "from mxnet import gluon\n",
    "import numpy as np\n",
    "mx.random.seed(1)"
   ]
  },
  {
   "cell_type": "code",
   "execution_count": 2,
   "metadata": {
    "collapsed": true
   },
   "outputs": [],
   "source": [
    "ctx = mx.cpu()\n"
   ]
  },
  {
   "cell_type": "code",
   "execution_count": 3,
   "metadata": {
    "collapsed": true
   },
   "outputs": [],
   "source": [
    "import json\n",
    "\n",
    "with open(\"./data/train_data_50000.json\") as json_data:\n",
    "    train_data = json.load(fp=json_data)\n",
    "    \n",
    "with open(\"./data/test_data_50000.json\") as json_data:\n",
    "    test_data = json.load(fp=json_data)\n",
    "\n",
    "train_X = np.array(train_data['data'])\n",
    "train_Y = np.array(train_data['label'])\n",
    "\n",
    "test_X = np.array(test_data['data'])\n",
    "test_Y = np.array(test_data['label'])"
   ]
  },
  {
   "cell_type": "code",
   "execution_count": 4,
   "metadata": {},
   "outputs": [],
   "source": [
    "train_X = train_X.reshape(50000,1,8,8)\n",
    "test_X = test_X.reshape(50000,1,8,8)\n"
   ]
  },
  {
   "cell_type": "code",
   "execution_count": 5,
   "metadata": {},
   "outputs": [],
   "source": [
    "#mnist = mx.test_utils.get_mnist()\n",
    "batch_size = 200\n",
    "num_inputs = 64\n",
    "num_outputs = 2\n",
    "train_data = mx.io.NDArrayIter(train_X, train_Y,\n",
    "                               batch_size, shuffle=True)\n",
    "test_data = mx.io.NDArrayIter(test_X, test_Y,\n",
    "                               batch_size, shuffle=True)"
   ]
  },
  {
   "cell_type": "code",
   "execution_count": 6,
   "metadata": {
    "collapsed": true
   },
   "outputs": [],
   "source": [
    "net = gluon.nn.Sequential()\n",
    "with net.name_scope():\n",
    "    net.add(gluon.nn.Conv2D(channels=20, kernel_size=2, activation='relu'))\n",
    "    net.add(gluon.nn.MaxPool2D(pool_size=2, strides=2))            \n",
    "    net.add(gluon.nn.Conv2D(channels=20, kernel_size=2, activation='relu'))\n",
    "    net.add(gluon.nn.MaxPool2D(pool_size=2, strides=2))            \n",
    "    net.add(gluon.nn.Flatten())\n",
    "    net.add(gluon.nn.Dense(50, activation=\"relu\"))\n",
    "    net.add(gluon.nn.Dense(num_outputs))"
   ]
  },
  {
   "cell_type": "code",
   "execution_count": 7,
   "metadata": {
    "collapsed": true
   },
   "outputs": [],
   "source": [
    "net.collect_params().initialize(mx.init.Xavier(magnitude=2.24), ctx=ctx)"
   ]
  },
  {
   "cell_type": "code",
   "execution_count": 8,
   "metadata": {
    "collapsed": true
   },
   "outputs": [],
   "source": [
    "softmax_cross_entropy = gluon.loss.SoftmaxCrossEntropyLoss()"
   ]
  },
  {
   "cell_type": "code",
   "execution_count": 9,
   "metadata": {
    "collapsed": true
   },
   "outputs": [],
   "source": [
    "trainer = gluon.Trainer(net.collect_params(), 'sgd', {'learning_rate': .1})"
   ]
  },
  {
   "cell_type": "code",
   "execution_count": 10,
   "metadata": {
    "collapsed": true
   },
   "outputs": [],
   "source": [
    "\n",
    "def evaluate_accuracy(data_iterator, net):\n",
    "    acc = mx.metric.Accuracy()\n",
    "    data_iterator.reset()\n",
    "    for i, batch in enumerate(data_iterator):\n",
    "        data = batch.data[0].as_in_context(ctx)\n",
    "        label = batch.label[0].as_in_context(ctx)\n",
    "        output = net(data)\n",
    "        predictions = nd.argmax(output, axis=1)\n",
    "        acc.update(preds=predictions, labels=label)\n",
    "    return acc.get()[1]"
   ]
  },
  {
   "cell_type": "code",
   "execution_count": 11,
   "metadata": {},
   "outputs": [
    {
     "name": "stdout",
     "output_type": "stream",
     "text": [
      "Epoch 0. Loss: 0.69265186168, Train_acc 0.5321, Test_acc 0.04384\n",
      "Epoch 1. Loss: 0.691123431071, Train_acc 0.53176, Test_acc 0.03384\n",
      "Epoch 2. Loss: 0.690364437088, Train_acc 0.53332, Test_acc 0.03398\n",
      "Epoch 3. Loss: 0.689778087521, Train_acc 0.5351, Test_acc 0.03686\n",
      "Epoch 4. Loss: 0.689207836188, Train_acc 0.54026, Test_acc 0.04452\n",
      "Epoch 5. Loss: 0.688564773131, Train_acc 0.54442, Test_acc 0.05476\n",
      "Epoch 6. Loss: 0.687802793806, Train_acc 0.54762, Test_acc 0.07278\n",
      "Epoch 7. Loss: 0.686930216659, Train_acc 0.55094, Test_acc 0.09966\n",
      "Epoch 8. Loss: 0.685858402788, Train_acc 0.5548, Test_acc 0.13178\n",
      "Epoch 9. Loss: 0.684633904932, Train_acc 0.5585, Test_acc 0.18384\n",
      "Epoch 10. Loss: 0.683295442681, Train_acc 0.561, Test_acc 0.22034\n",
      "Epoch 11. Loss: 0.681848633674, Train_acc 0.56278, Test_acc 0.2582\n",
      "Epoch 12. Loss: 0.680416680705, Train_acc 0.56702, Test_acc 0.2804\n",
      "Epoch 13. Loss: 0.67898777536, Train_acc 0.56822, Test_acc 0.32648\n",
      "Epoch 14. Loss: 0.677639565119, Train_acc 0.56868, Test_acc 0.36598\n",
      "Epoch 15. Loss: 0.676332998759, Train_acc 0.56912, Test_acc 0.39526\n",
      "Epoch 16. Loss: 0.675184508376, Train_acc 0.56962, Test_acc 0.41662\n",
      "Epoch 17. Loss: 0.674124037093, Train_acc 0.5688, Test_acc 0.43942\n",
      "Epoch 18. Loss: 0.672979569619, Train_acc 0.56824, Test_acc 0.47272\n",
      "Epoch 19. Loss: 0.672008309341, Train_acc 0.56812, Test_acc 0.49128\n",
      "Epoch 20. Loss: 0.671113059605, Train_acc 0.56708, Test_acc 0.53124\n",
      "Epoch 21. Loss: 0.6702473902, Train_acc 0.56792, Test_acc 0.55314\n",
      "Epoch 22. Loss: 0.669487924678, Train_acc 0.56994, Test_acc 0.53676\n",
      "Epoch 23. Loss: 0.668751887181, Train_acc 0.56938, Test_acc 0.55194\n",
      "Epoch 24. Loss: 0.668028314687, Train_acc 0.57044, Test_acc 0.54712\n",
      "Epoch 25. Loss: 0.667276627029, Train_acc 0.57262, Test_acc 0.525\n",
      "Epoch 26. Loss: 0.666528193308, Train_acc 0.57078, Test_acc 0.54742\n",
      "Epoch 27. Loss: 0.665902925136, Train_acc 0.57312, Test_acc 0.53112\n",
      "Epoch 28. Loss: 0.665275950185, Train_acc 0.57378, Test_acc 0.54254\n",
      "Epoch 29. Loss: 0.664717854839, Train_acc 0.57408, Test_acc 0.55068\n",
      "Epoch 30. Loss: 0.664160678215, Train_acc 0.573, Test_acc 0.58098\n",
      "Epoch 31. Loss: 0.66367316159, Train_acc 0.57404, Test_acc 0.57716\n",
      "Epoch 32. Loss: 0.663145466834, Train_acc 0.5751, Test_acc 0.5774\n",
      "Epoch 33. Loss: 0.662710962705, Train_acc 0.57498, Test_acc 0.60768\n",
      "Epoch 34. Loss: 0.662200180626, Train_acc 0.5779, Test_acc 0.5648\n",
      "Epoch 35. Loss: 0.661661970036, Train_acc 0.5782, Test_acc 0.5633\n",
      "Epoch 36. Loss: 0.661216602566, Train_acc 0.57952, Test_acc 0.55786\n",
      "Epoch 37. Loss: 0.660794440377, Train_acc 0.57736, Test_acc 0.58102\n",
      "Epoch 38. Loss: 0.660391153752, Train_acc 0.57652, Test_acc 0.60162\n",
      "Epoch 39. Loss: 0.659953159691, Train_acc 0.57728, Test_acc 0.60386\n"
     ]
    }
   ],
   "source": [
    "\n",
    "epochs = 40\n",
    "smoothing_constant = .01\n",
    "\n",
    "for e in range(epochs):\n",
    "    train_data.reset()\n",
    "    for i, batch in enumerate(train_data):\n",
    "        data = batch.data[0].as_in_context(ctx)\n",
    "        label = batch.label[0].as_in_context(ctx)\n",
    "        with autograd.record():\n",
    "            output = net(data)\n",
    "            loss = softmax_cross_entropy(output, label)\n",
    "        loss.backward()\n",
    "        trainer.step(data.shape[0])\n",
    "        curr_loss = nd.mean(loss).asscalar()\n",
    "        moving_loss = (curr_loss if ((i == 0) and (e == 0)) \n",
    "                       else (1 - smoothing_constant) * moving_loss + (smoothing_constant) * curr_loss)\n",
    "        \n",
    "    test_accuracy = evaluate_accuracy(test_data, net)\n",
    "    train_accuracy = evaluate_accuracy(train_data, net)\n",
    "    print(\"Epoch %s. Loss: %s, Train_acc %s, Test_acc %s\" % (e, moving_loss, train_accuracy, test_accuracy))"
   ]
  },
  {
   "cell_type": "code",
   "execution_count": null,
   "metadata": {
    "collapsed": true
   },
   "outputs": [],
   "source": []
  },
  {
   "cell_type": "code",
   "execution_count": null,
   "metadata": {
    "collapsed": true
   },
   "outputs": [],
   "source": []
  }
 ],
 "metadata": {
  "kernelspec": {
   "display_name": "Python 3",
   "language": "python",
   "name": "python3"
  },
  "language_info": {
   "codemirror_mode": {
    "name": "ipython",
    "version": 3
   },
   "file_extension": ".py",
   "mimetype": "text/x-python",
   "name": "python",
   "nbconvert_exporter": "python",
   "pygments_lexer": "ipython3",
   "version": "3.4.3"
  }
 },
 "nbformat": 4,
 "nbformat_minor": 2
}
